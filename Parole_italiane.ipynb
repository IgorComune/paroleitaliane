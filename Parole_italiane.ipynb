{
 "cells": [
  {
   "cell_type": "markdown",
   "id": "c73adf68-7d6d-40d2-b4d4-60918d64a4b9",
   "metadata": {},
   "source": [
    "# Libraries"
   ]
  },
  {
   "cell_type": "code",
   "execution_count": 1,
   "id": "3ac9b1c8-bd63-4d7e-a569-be6d1cf03282",
   "metadata": {},
   "outputs": [],
   "source": [
    "import pandas as pd\n",
    "import numpy as np\n",
    "import matplotlib.pyplot as plt\n",
    "import seaborn as sns"
   ]
  },
  {
   "cell_type": "markdown",
   "id": "7fcd6f84-78e9-4f94-b1bb-b025ff776faf",
   "metadata": {},
   "source": [
    "# Data"
   ]
  },
  {
   "cell_type": "code",
   "execution_count": 2,
   "id": "8bf98a99-4328-435a-bc67-c60ab18f53db",
   "metadata": {},
   "outputs": [
    {
     "data": {
      "text/plain": [
       "0         Aba\n",
       "1       Abaco\n",
       "2    Abagnale\n",
       "3    Abagnali\n",
       "4    Abagnato\n",
       "Name: Parole, dtype: object"
      ]
     },
     "execution_count": 2,
     "metadata": {},
     "output_type": "execute_result"
    }
   ],
   "source": [
    "#importing the data,creating a series and visualizing\n",
    "data = pd.read_csv('paroleitaliane/parole_uniche.txt')\n",
    "data = pd.Series(data.Parole)\n",
    "data.head()"
   ]
  },
  {
   "cell_type": "markdown",
   "id": "9daf7c9f-aa2b-420f-a8d2-f85f2a141362",
   "metadata": {},
   "source": [
    "# Analysis"
   ]
  },
  {
   "cell_type": "markdown",
   "id": "a8f0df05-c4b3-4dca-8e59-25cf2a462e6c",
   "metadata": {},
   "source": [
    "## Total and representations of borrowed words from other languages"
   ]
  },
  {
   "cell_type": "code",
   "execution_count": 3,
   "id": "ab36eba1-4e82-48c0-8bb5-a067b9ce5b7b",
   "metadata": {},
   "outputs": [
    {
     "data": {
      "text/plain": [
       "986698"
      ]
     },
     "execution_count": 3,
     "metadata": {},
     "output_type": "execute_result"
    }
   ],
   "source": [
    "#Total numbers of words in this dataset\n",
    "total = data.count()\n",
    "total"
   ]
  },
  {
   "cell_type": "code",
   "execution_count": 4,
   "id": "893163fc-d5ea-4b10-9d2f-ec61e1bcb27e",
   "metadata": {},
   "outputs": [],
   "source": [
    "#Alphabet and Italian alphabet, used for iteration\n",
    "alphabet = ['a', 'b', 'c', 'd', 'e', \n",
    "            'f', 'g', 'h', 'i', 'j', \n",
    "            'k', 'l', 'm', 'n', 'o', \n",
    "            'p', 'q', 'r', 's', 't', \n",
    "            'u', 'v', 'w', 'x', 'y', 'z']\n",
    "\n",
    "italian_alphabet = ['a', 'b', 'c', 'd', 'e', \n",
    "                    'f', 'g', 'h', 'i',  \n",
    "                    'l', 'm', 'n', 'o', \n",
    "                    'p', 'q', 'r', 's', 't', \n",
    "                    'u', 'v', 'z']"
   ]
  },
  {
   "cell_type": "code",
   "execution_count": 5,
   "id": "59a0ae6e-c673-4609-a0d5-6667a774b644",
   "metadata": {},
   "outputs": [],
   "source": [
    "#creating 2 lists, the first from the letters of the alphabet\n",
    "#the \"total_sum\" is the sum of the words which starts with each one of the letters of the alphabet\n",
    "italian_letters = []\n",
    "italian_total_sum = []\n",
    "\n",
    "#iteration, summing and appending the values into the lists\n",
    "for letter in italian_alphabet:\n",
    "    italian_letters.append(letter)\n",
    "    italian_total_sum.append(int(data.str.startswith(letter).sum()))"
   ]
  },
  {
   "cell_type": "code",
   "execution_count": 6,
   "id": "1cf00df9-4fce-44cc-9ab3-48e2e8c427b7",
   "metadata": {},
   "outputs": [
    {
     "data": {
      "text/plain": [
       "941407"
      ]
     },
     "execution_count": 6,
     "metadata": {},
     "output_type": "execute_result"
    }
   ],
   "source": [
    "#Total of italian words\n",
    "italian_words_sum = sum(italian_total_sum)\n",
    "italian_words_sum"
   ]
  },
  {
   "cell_type": "code",
   "execution_count": 7,
   "id": "1bd6ad78-316a-4ecc-a202-a5103ba32ba7",
   "metadata": {},
   "outputs": [
    {
     "data": {
      "text/plain": [
       "45291"
      ]
     },
     "execution_count": 7,
     "metadata": {},
     "output_type": "execute_result"
    }
   ],
   "source": [
    "#number of borrowed words\n",
    "borrowed_words = total - italian_words_sum\n",
    "borrowed_words"
   ]
  },
  {
   "cell_type": "code",
   "execution_count": 8,
   "id": "6b86ac18-843b-43e5-8d00-b7a793105619",
   "metadata": {},
   "outputs": [
    {
     "data": {
      "text/plain": [
       "4.590158285513906"
      ]
     },
     "execution_count": 8,
     "metadata": {},
     "output_type": "execute_result"
    }
   ],
   "source": [
    "#borrowed words as total of the words\n",
    "((total - italian_words_sum) / total) * 100"
   ]
  },
  {
   "cell_type": "code",
   "execution_count": 9,
   "id": "b253f034-8801-41f3-a9fe-565507bc2143",
   "metadata": {},
   "outputs": [
    {
     "data": {
      "text/html": [
       "<div>\n",
       "<style scoped>\n",
       "    .dataframe tbody tr th:only-of-type {\n",
       "        vertical-align: middle;\n",
       "    }\n",
       "\n",
       "    .dataframe tbody tr th {\n",
       "        vertical-align: top;\n",
       "    }\n",
       "\n",
       "    .dataframe thead th {\n",
       "        text-align: right;\n",
       "    }\n",
       "</style>\n",
       "<table border=\"1\" class=\"dataframe\">\n",
       "  <thead>\n",
       "    <tr style=\"text-align: right;\">\n",
       "      <th></th>\n",
       "      <th>Category</th>\n",
       "      <th>Total</th>\n",
       "    </tr>\n",
       "  </thead>\n",
       "  <tbody>\n",
       "    <tr>\n",
       "      <th>0</th>\n",
       "      <td>All_Words</td>\n",
       "      <td>986698</td>\n",
       "    </tr>\n",
       "    <tr>\n",
       "      <th>1</th>\n",
       "      <td>Italian_Words</td>\n",
       "      <td>941407</td>\n",
       "    </tr>\n",
       "  </tbody>\n",
       "</table>\n",
       "</div>"
      ],
      "text/plain": [
       "        Category   Total\n",
       "0      All_Words  986698\n",
       "1  Italian_Words  941407"
      ]
     },
     "execution_count": 9,
     "metadata": {},
     "output_type": "execute_result"
    }
   ],
   "source": [
    "#creating dataframe for plotting\n",
    "dic_1 = [['All_Words', total], ['Italian_Words',italian_words_sum]]\n",
    "df1 = pd.DataFrame(dic_1)\n",
    "df1 = df1.rename(columns={0:'Category', 1:'Total'})\n",
    "df1"
   ]
  },
  {
   "cell_type": "code",
   "execution_count": 10,
   "id": "a8458aa7-e131-4da3-a784-87b791bb51d3",
   "metadata": {},
   "outputs": [
    {
     "data": {
      "text/plain": [
       "Text(0.5, 1.0, 'Total of All Words, All Italian Words\\n and Borrowed Words')"
      ]
     },
     "execution_count": 10,
     "metadata": {},
     "output_type": "execute_result"
    },
    {
     "data": {
      "image/png": "[encoded data removed]",
      "text/plain": [
       "<Figure size 288x432 with 1 Axes>"
      ]
     },
     "metadata": {
      "needs_background": "light"
     },
     "output_type": "display_data"
    }
   ],
   "source": [
    "#creating figure\n",
    "fig = plt.figure(figsize=(4,6))\n",
    "fig.add_axes([0,0,1,1])\n",
    "\n",
    "#barplot\n",
    "plt.bar('Number of words', df1.iloc[0,1],color='red', width = 0.06, label=df1.iloc[0,0])\n",
    "plt.bar('Number of words', df1.iloc[1,1],color='green', width = 0.06, label=df1.iloc[1,0])\n",
    "\n",
    "#others\n",
    "plt.legend(loc='lower left')\n",
    "plt.annotate('45.291',xy=(0.0001,948000), fontsize=15)\n",
    "plt.title('Total of All Words, All Italian Words\\n and Borrowed Words', pad=20, fontsize=15)\n"
   ]
  },
  {
   "cell_type": "markdown",
   "id": "abc0e0c1-5319-4f10-8873-8788dca11764",
   "metadata": {},
   "source": [
    "## Creating the DataFrames from the alphabets"
   ]
  },
  {
   "cell_type": "markdown",
   "id": "7584072f-25fd-4e05-bc38-49c072b9d8d5",
   "metadata": {},
   "source": [
    "### Latin Alphabet"
   ]
  },
  {
   "cell_type": "code",
   "execution_count": 11,
   "id": "9f07afb6-a32f-426b-8784-1a63cbf232c1",
   "metadata": {},
   "outputs": [],
   "source": [
    "#creating 2 lists, the first from the letters of the alphabet\n",
    "#the \"total_sum\" is the sum of the words which starts with each one of the letters of the alphabet\n",
    "letters = []\n",
    "total_sum = []\n",
    "\n",
    "#iteration, summing and appending the values into the lists\n",
    "for letter in alphabet:\n",
    "    letters.append(letter)\n",
    "    total_sum.append(int(data.str.startswith(letter).sum()))"
   ]
  },
  {
   "cell_type": "code",
   "execution_count": 12,
   "id": "f29d35d6-8845-41d2-bedb-7936747b9cfd",
   "metadata": {},
   "outputs": [
    {
     "data": {
      "text/html": [
       "<div>\n",
       "<style scoped>\n",
       "    .dataframe tbody tr th:only-of-type {\n",
       "        vertical-align: middle;\n",
       "    }\n",
       "\n",
       "    .dataframe tbody tr th {\n",
       "        vertical-align: top;\n",
       "    }\n",
       "\n",
       "    .dataframe thead th {\n",
       "        text-align: right;\n",
       "    }\n",
       "</style>\n",
       "<table border=\"1\" class=\"dataframe\">\n",
       "  <thead>\n",
       "    <tr style=\"text-align: right;\">\n",
       "      <th></th>\n",
       "      <th>Total</th>\n",
       "      <th>Percentual</th>\n",
       "    </tr>\n",
       "  </thead>\n",
       "  <tbody>\n",
       "    <tr>\n",
       "      <th>a</th>\n",
       "      <td>90464</td>\n",
       "      <td>9.17</td>\n",
       "    </tr>\n",
       "    <tr>\n",
       "      <th>b</th>\n",
       "      <td>41501</td>\n",
       "      <td>4.21</td>\n",
       "    </tr>\n",
       "    <tr>\n",
       "      <th>c</th>\n",
       "      <td>81249</td>\n",
       "      <td>8.23</td>\n",
       "    </tr>\n",
       "    <tr>\n",
       "      <th>d</th>\n",
       "      <td>76451</td>\n",
       "      <td>7.75</td>\n",
       "    </tr>\n",
       "    <tr>\n",
       "      <th>e</th>\n",
       "      <td>23612</td>\n",
       "      <td>2.39</td>\n",
       "    </tr>\n",
       "  </tbody>\n",
       "</table>\n",
       "</div>"
      ],
      "text/plain": [
       "   Total  Percentual\n",
       "a  90464        9.17\n",
       "b  41501        4.21\n",
       "c  81249        8.23\n",
       "d  76451        7.75\n",
       "e  23612        2.39"
      ]
     },
     "execution_count": 12,
     "metadata": {},
     "output_type": "execute_result"
    }
   ],
   "source": [
    "#creating a Data Frame with the \"Letters\" and \"Total_sum\" lists\n",
    "all_words_startswith = pd.DataFrame(total_sum, letters)\n",
    "\n",
    "#renaming the columns\n",
    "all_words_startswith = all_words_startswith.rename(columns={0:'Total'})\n",
    "\n",
    "#creating the percentual column\n",
    "all_words_startswith['Percentual'] = ((all_words_startswith.Total / total) *100).round(2)\n",
    "all_words_startswith.head()"
   ]
  },
  {
   "cell_type": "code",
   "execution_count": 13,
   "id": "75cfbd85-7476-4e5e-9134-b93d1d49b62c",
   "metadata": {},
   "outputs": [
    {
     "data": {
      "image/png": "[encoded data removed]",
      "text/plain": [
       "<Figure size 864x432 with 2 Axes>"
      ]
     },
     "metadata": {
      "needs_background": "light"
     },
     "output_type": "display_data"
    }
   ],
   "source": [
    "#creating figure\n",
    "ax = plt.figure(figsize=(12,6))\n",
    "\n",
    "#using seaborn to make to first plot\n",
    "ax = sns.barplot(data=all_words_startswith, \n",
    "                                x=all_words_startswith.index, \n",
    "                                y=all_words_startswith.Total)\n",
    "\n",
    "#creating the second y-axis\n",
    "ax2 = ax.twinx()\n",
    "ax2 = ax = sns.barplot(data=all_words_startswith, \n",
    "                                x=all_words_startswith.index, \n",
    "                                y=all_words_startswith.Percentual)\n",
    "#Title, grid and save\n",
    "ax.set_title('Sum and Percentage of the Italian Words Which Starts With\\n Each Letter of the Latin Alphabet', \n",
    "             fontsize=20, pad=10)\n",
    "ax.grid(True, linestyle='--', linewidth=0.3)\n",
    "plt.savefig(\"graf1.jpg\")\n",
    "\n",
    "ax=ax"
   ]
  },
  {
   "cell_type": "markdown",
   "id": "76248145-75b6-49fd-82ec-f6c1cf24b291",
   "metadata": {
    "tags": []
   },
   "source": [
    "### Italian Alphabet"
   ]
  },
  {
   "cell_type": "code",
   "execution_count": 14,
   "id": "968a06db-945a-4ccf-9ddb-91924e33e732",
   "metadata": {},
   "outputs": [],
   "source": [
    "#creating 2 lists, the first from the letters of the italian alphabet\n",
    "#the \"_italian_total_sum\" is the sum of the words which starts with each one of the letters of the alphabet\n",
    "italian_letters = []\n",
    "italian_total_sum = []\n",
    "\n",
    "#iteration, summing and appending the values into the lists\n",
    "for letter in italian_alphabet:\n",
    "    italian_letters.append(letter)\n",
    "    italian_total_sum.append(int(data.str.startswith(letter).sum()))"
   ]
  },
  {
   "cell_type": "code",
   "execution_count": 15,
   "id": "3c20bbbe-4432-41c3-a2fb-aece6336cc8f",
   "metadata": {},
   "outputs": [
    {
     "data": {
      "text/html": [
       "<div>\n",
       "<style scoped>\n",
       "    .dataframe tbody tr th:only-of-type {\n",
       "        vertical-align: middle;\n",
       "    }\n",
       "\n",
       "    .dataframe tbody tr th {\n",
       "        vertical-align: top;\n",
       "    }\n",
       "\n",
       "    .dataframe thead th {\n",
       "        text-align: right;\n",
       "    }\n",
       "</style>\n",
       "<table border=\"1\" class=\"dataframe\">\n",
       "  <thead>\n",
       "    <tr style=\"text-align: right;\">\n",
       "      <th></th>\n",
       "      <th>Total</th>\n",
       "      <th>Percentual</th>\n",
       "    </tr>\n",
       "  </thead>\n",
       "  <tbody>\n",
       "    <tr>\n",
       "      <th>a</th>\n",
       "      <td>90464</td>\n",
       "      <td>9.17</td>\n",
       "    </tr>\n",
       "    <tr>\n",
       "      <th>b</th>\n",
       "      <td>41501</td>\n",
       "      <td>4.21</td>\n",
       "    </tr>\n",
       "    <tr>\n",
       "      <th>c</th>\n",
       "      <td>81249</td>\n",
       "      <td>8.23</td>\n",
       "    </tr>\n",
       "    <tr>\n",
       "      <th>d</th>\n",
       "      <td>76451</td>\n",
       "      <td>7.75</td>\n",
       "    </tr>\n",
       "    <tr>\n",
       "      <th>e</th>\n",
       "      <td>23612</td>\n",
       "      <td>2.39</td>\n",
       "    </tr>\n",
       "  </tbody>\n",
       "</table>\n",
       "</div>"
      ],
      "text/plain": [
       "   Total  Percentual\n",
       "a  90464        9.17\n",
       "b  41501        4.21\n",
       "c  81249        8.23\n",
       "d  76451        7.75\n",
       "e  23612        2.39"
      ]
     },
     "execution_count": 15,
     "metadata": {},
     "output_type": "execute_result"
    }
   ],
   "source": [
    "#creating a Data Frame with the \"Letters\" and \"Total_sum\" lists\n",
    "italian_all_words_startswith = pd.DataFrame(italian_total_sum, italian_letters)\n",
    "\n",
    "#renaming the columns\n",
    "italian_all_words_startswith = italian_all_words_startswith.rename(columns={0:'Total'})\n",
    "\n",
    "#creating the percentual column\n",
    "italian_all_words_startswith['Percentual'] = ((italian_all_words_startswith.Total / total) *100).round(2)\n",
    "italian_all_words_startswith.head()"
   ]
  },
  {
   "cell_type": "code",
   "execution_count": 16,
   "id": "4f1a5665-17ce-44a5-abb8-bc8b663b1c45",
   "metadata": {},
   "outputs": [
    {
     "data": {
      "image/png": "[encoded data removed]",
      "text/plain": [
       "<Figure size 864x432 with 2 Axes>"
      ]
     },
     "metadata": {
      "needs_background": "light"
     },
     "output_type": "display_data"
    }
   ],
   "source": [
    "#creating figure\n",
    "ax = plt.figure(figsize=(12,6))\n",
    "\n",
    "#using seaborn to make to first plot\n",
    "ax = sns.barplot(data=italian_all_words_startswith, \n",
    "                                x=italian_all_words_startswith.index, \n",
    "                                y=italian_all_words_startswith.Total)\n",
    "\n",
    "#creating the second y-axis\n",
    "ax2 = ax.twinx()\n",
    "ax2 = ax = sns.barplot(data=italian_all_words_startswith, \n",
    "                                x=italian_all_words_startswith.index, \n",
    "                                y=italian_all_words_startswith.Percentual)\n",
    "#Title, grid and save\n",
    "ax.set_title('Sum and Percentage of the Italian Words Which Starts With\\n Each Letter of the Italian Alphabet', \n",
    "             fontsize=20, pad=10)\n",
    "ax.grid(True, linestyle='--', linewidth=0.3)\n",
    "plt.savefig(\"graf2_italian.jpg\")\n",
    "\n",
    "ax=ax"
   ]
  },
  {
   "cell_type": "code",
   "execution_count": 17,
   "id": "34e28025-98f7-4dd3-b1ab-2101cd8537a8",
   "metadata": {},
   "outputs": [],
   "source": [
    "#exporting the csv files\n",
    "all_words_startswith.to_csv('all_words_startswith.csv')\n",
    "italian_all_words_startswith.to_csv('italian_all_words_startswith.csv')"
   ]
  },
  {
   "cell_type": "markdown",
   "id": "7a33f896-fa06-494e-97a4-0c9860eac645",
   "metadata": {},
   "source": [
    "## Counting the number of letters in each word"
   ]
  },
  {
   "cell_type": "code",
   "execution_count": 18,
   "id": "bd978cea-d1c1-4995-a999-981d674ab5f2",
   "metadata": {},
   "outputs": [],
   "source": [
    "#converting series to dataframe\n",
    "data = data.to_frame()"
   ]
  },
  {
   "cell_type": "code",
   "execution_count": 19,
   "id": "5d5e566e-bdea-4fc8-bc07-6d0d144a86a4",
   "metadata": {},
   "outputs": [],
   "source": [
    "#creating a new column for counting the total sum of the letter in each word\n",
    "data['number_letters'] = data['Parole'].str.len()"
   ]
  },
  {
   "cell_type": "code",
   "execution_count": 20,
   "id": "573c6882-3d51-48f7-b44b-9b0377d415e3",
   "metadata": {},
   "outputs": [
    {
     "data": {
      "image/png": "[encoded data removed]",
      "text/plain": [
       "<Figure size 432x288 with 1 Axes>"
      ]
     },
     "metadata": {
      "needs_background": "light"
     },
     "output_type": "display_data"
    }
   ],
   "source": [
    "#plotting\n",
    "histogram = sns.histplot(data['number_letters'], bins=45, fill=True,)\n",
    "histogram.grid(True, alpha=0.5)"
   ]
  },
  {
   "cell_type": "markdown",
   "id": "93edc453-df69-4110-8efa-ba0319fe88aa",
   "metadata": {},
   "source": [
    "## Counting each letter"
   ]
  },
  {
   "cell_type": "code",
   "execution_count": 21,
   "id": "8c9bfe9d-8da0-4f93-9cbc-221303198f1e",
   "metadata": {},
   "outputs": [],
   "source": [
    "#lowering all letters in each word\n",
    "data = data['Parole'].str.lower()\n",
    "data = data.to_frame()"
   ]
  },
  {
   "cell_type": "code",
   "execution_count": 26,
   "id": "d9f7dc21-ae64-4bc1-9be5-01a7cdd17244",
   "metadata": {},
   "outputs": [
    {
     "data": {
      "text/html": [
       "<div>\n",
       "<style scoped>\n",
       "    .dataframe tbody tr th:only-of-type {\n",
       "        vertical-align: middle;\n",
       "    }\n",
       "\n",
       "    .dataframe tbody tr th {\n",
       "        vertical-align: top;\n",
       "    }\n",
       "\n",
       "    .dataframe thead th {\n",
       "        text-align: right;\n",
       "    }\n",
       "</style>\n",
       "<table border=\"1\" class=\"dataframe\">\n",
       "  <thead>\n",
       "    <tr style=\"text-align: right;\">\n",
       "      <th></th>\n",
       "      <th>Parole</th>\n",
       "      <th>a</th>\n",
       "      <th>b</th>\n",
       "      <th>c</th>\n",
       "      <th>d</th>\n",
       "      <th>e</th>\n",
       "      <th>f</th>\n",
       "      <th>g</th>\n",
       "      <th>h</th>\n",
       "      <th>i</th>\n",
       "      <th>...</th>\n",
       "      <th>n</th>\n",
       "      <th>o</th>\n",
       "      <th>p</th>\n",
       "      <th>q</th>\n",
       "      <th>r</th>\n",
       "      <th>s</th>\n",
       "      <th>t</th>\n",
       "      <th>u</th>\n",
       "      <th>v</th>\n",
       "      <th>z</th>\n",
       "    </tr>\n",
       "  </thead>\n",
       "  <tbody>\n",
       "    <tr>\n",
       "      <th>0</th>\n",
       "      <td>aba</td>\n",
       "      <td>2.0</td>\n",
       "      <td>1.0</td>\n",
       "      <td>0.0</td>\n",
       "      <td>0.0</td>\n",
       "      <td>0.0</td>\n",
       "      <td>0.0</td>\n",
       "      <td>0.0</td>\n",
       "      <td>0.0</td>\n",
       "      <td>0.0</td>\n",
       "      <td>...</td>\n",
       "      <td>0.0</td>\n",
       "      <td>0.0</td>\n",
       "      <td>0.0</td>\n",
       "      <td>0.0</td>\n",
       "      <td>0.0</td>\n",
       "      <td>0.0</td>\n",
       "      <td>0.0</td>\n",
       "      <td>0.0</td>\n",
       "      <td>0.0</td>\n",
       "      <td>0.0</td>\n",
       "    </tr>\n",
       "    <tr>\n",
       "      <th>1</th>\n",
       "      <td>abaco</td>\n",
       "      <td>2.0</td>\n",
       "      <td>1.0</td>\n",
       "      <td>1.0</td>\n",
       "      <td>0.0</td>\n",
       "      <td>0.0</td>\n",
       "      <td>0.0</td>\n",
       "      <td>0.0</td>\n",
       "      <td>0.0</td>\n",
       "      <td>0.0</td>\n",
       "      <td>...</td>\n",
       "      <td>0.0</td>\n",
       "      <td>1.0</td>\n",
       "      <td>0.0</td>\n",
       "      <td>0.0</td>\n",
       "      <td>0.0</td>\n",
       "      <td>0.0</td>\n",
       "      <td>0.0</td>\n",
       "      <td>0.0</td>\n",
       "      <td>0.0</td>\n",
       "      <td>0.0</td>\n",
       "    </tr>\n",
       "    <tr>\n",
       "      <th>2</th>\n",
       "      <td>abagnale</td>\n",
       "      <td>3.0</td>\n",
       "      <td>1.0</td>\n",
       "      <td>0.0</td>\n",
       "      <td>0.0</td>\n",
       "      <td>1.0</td>\n",
       "      <td>0.0</td>\n",
       "      <td>1.0</td>\n",
       "      <td>0.0</td>\n",
       "      <td>0.0</td>\n",
       "      <td>...</td>\n",
       "      <td>1.0</td>\n",
       "      <td>0.0</td>\n",
       "      <td>0.0</td>\n",
       "      <td>0.0</td>\n",
       "      <td>0.0</td>\n",
       "      <td>0.0</td>\n",
       "      <td>0.0</td>\n",
       "      <td>0.0</td>\n",
       "      <td>0.0</td>\n",
       "      <td>0.0</td>\n",
       "    </tr>\n",
       "    <tr>\n",
       "      <th>3</th>\n",
       "      <td>abagnali</td>\n",
       "      <td>3.0</td>\n",
       "      <td>1.0</td>\n",
       "      <td>0.0</td>\n",
       "      <td>0.0</td>\n",
       "      <td>0.0</td>\n",
       "      <td>0.0</td>\n",
       "      <td>1.0</td>\n",
       "      <td>0.0</td>\n",
       "      <td>1.0</td>\n",
       "      <td>...</td>\n",
       "      <td>1.0</td>\n",
       "      <td>0.0</td>\n",
       "      <td>0.0</td>\n",
       "      <td>0.0</td>\n",
       "      <td>0.0</td>\n",
       "      <td>0.0</td>\n",
       "      <td>0.0</td>\n",
       "      <td>0.0</td>\n",
       "      <td>0.0</td>\n",
       "      <td>0.0</td>\n",
       "    </tr>\n",
       "    <tr>\n",
       "      <th>4</th>\n",
       "      <td>abagnato</td>\n",
       "      <td>3.0</td>\n",
       "      <td>1.0</td>\n",
       "      <td>0.0</td>\n",
       "      <td>0.0</td>\n",
       "      <td>0.0</td>\n",
       "      <td>0.0</td>\n",
       "      <td>1.0</td>\n",
       "      <td>0.0</td>\n",
       "      <td>0.0</td>\n",
       "      <td>...</td>\n",
       "      <td>1.0</td>\n",
       "      <td>1.0</td>\n",
       "      <td>0.0</td>\n",
       "      <td>0.0</td>\n",
       "      <td>0.0</td>\n",
       "      <td>0.0</td>\n",
       "      <td>1.0</td>\n",
       "      <td>0.0</td>\n",
       "      <td>0.0</td>\n",
       "      <td>0.0</td>\n",
       "    </tr>\n",
       "  </tbody>\n",
       "</table>\n",
       "<p>5 rows × 22 columns</p>\n",
       "</div>"
      ],
      "text/plain": [
       "     Parole    a    b    c    d    e    f    g    h    i  ...    n    o    p  \\\n",
       "0       aba  2.0  1.0  0.0  0.0  0.0  0.0  0.0  0.0  0.0  ...  0.0  0.0  0.0   \n",
       "1     abaco  2.0  1.0  1.0  0.0  0.0  0.0  0.0  0.0  0.0  ...  0.0  1.0  0.0   \n",
       "2  abagnale  3.0  1.0  0.0  0.0  1.0  0.0  1.0  0.0  0.0  ...  1.0  0.0  0.0   \n",
       "3  abagnali  3.0  1.0  0.0  0.0  0.0  0.0  1.0  0.0  1.0  ...  1.0  0.0  0.0   \n",
       "4  abagnato  3.0  1.0  0.0  0.0  0.0  0.0  1.0  0.0  0.0  ...  1.0  1.0  0.0   \n",
       "\n",
       "     q    r    s    t    u    v    z  \n",
       "0  0.0  0.0  0.0  0.0  0.0  0.0  0.0  \n",
       "1  0.0  0.0  0.0  0.0  0.0  0.0  0.0  \n",
       "2  0.0  0.0  0.0  0.0  0.0  0.0  0.0  \n",
       "3  0.0  0.0  0.0  0.0  0.0  0.0  0.0  \n",
       "4  0.0  0.0  0.0  1.0  0.0  0.0  0.0  \n",
       "\n",
       "[5 rows x 22 columns]"
      ]
     },
     "execution_count": 26,
     "metadata": {},
     "output_type": "execute_result"
    }
   ],
   "source": [
    "#creating columns and counting the letters in each word\n",
    "for letter in italian_alphabet:\n",
    "    data[letter] = data.Parole.str.count(letter)\n",
    "\n",
    "#visualizing\n",
    "data.head()"
   ]
  },
  {
   "cell_type": "code",
   "execution_count": 41,
   "id": "55dfd061-3a15-4190-92a8-ee1ec79f7210",
   "metadata": {},
   "outputs": [
    {
     "data": {
      "text/html": [
       "<div>\n",
       "<style scoped>\n",
       "    .dataframe tbody tr th:only-of-type {\n",
       "        vertical-align: middle;\n",
       "    }\n",
       "\n",
       "    .dataframe tbody tr th {\n",
       "        vertical-align: top;\n",
       "    }\n",
       "\n",
       "    .dataframe thead th {\n",
       "        text-align: right;\n",
       "    }\n",
       "</style>\n",
       "<table border=\"1\" class=\"dataframe\">\n",
       "  <thead>\n",
       "    <tr style=\"text-align: right;\">\n",
       "      <th></th>\n",
       "      <th>0</th>\n",
       "    </tr>\n",
       "  </thead>\n",
       "  <tbody>\n",
       "    <tr>\n",
       "      <th>a</th>\n",
       "      <td>1124997.0</td>\n",
       "    </tr>\n",
       "    <tr>\n",
       "      <th>b</th>\n",
       "      <td>194532.0</td>\n",
       "    </tr>\n",
       "    <tr>\n",
       "      <th>c</th>\n",
       "      <td>482311.0</td>\n",
       "    </tr>\n",
       "    <tr>\n",
       "      <th>d</th>\n",
       "      <td>236898.0</td>\n",
       "    </tr>\n",
       "    <tr>\n",
       "      <th>e</th>\n",
       "      <td>995039.0</td>\n",
       "    </tr>\n",
       "    <tr>\n",
       "      <th>f</th>\n",
       "      <td>134137.0</td>\n",
       "    </tr>\n",
       "    <tr>\n",
       "      <th>g</th>\n",
       "      <td>246052.0</td>\n",
       "    </tr>\n",
       "    <tr>\n",
       "      <th>h</th>\n",
       "      <td>89143.0</td>\n",
       "    </tr>\n",
       "    <tr>\n",
       "      <th>i</th>\n",
       "      <td>1209959.0</td>\n",
       "    </tr>\n",
       "    <tr>\n",
       "      <th>l</th>\n",
       "      <td>416661.0</td>\n",
       "    </tr>\n",
       "    <tr>\n",
       "      <th>m</th>\n",
       "      <td>343493.0</td>\n",
       "    </tr>\n",
       "    <tr>\n",
       "      <th>n</th>\n",
       "      <td>608259.0</td>\n",
       "    </tr>\n",
       "    <tr>\n",
       "      <th>o</th>\n",
       "      <td>805063.0</td>\n",
       "    </tr>\n",
       "    <tr>\n",
       "      <th>p</th>\n",
       "      <td>225272.0</td>\n",
       "    </tr>\n",
       "    <tr>\n",
       "      <th>q</th>\n",
       "      <td>11929.0</td>\n",
       "    </tr>\n",
       "    <tr>\n",
       "      <th>r</th>\n",
       "      <td>833290.0</td>\n",
       "    </tr>\n",
       "    <tr>\n",
       "      <th>s</th>\n",
       "      <td>603764.0</td>\n",
       "    </tr>\n",
       "    <tr>\n",
       "      <th>t</th>\n",
       "      <td>658065.0</td>\n",
       "    </tr>\n",
       "    <tr>\n",
       "      <th>u</th>\n",
       "      <td>205151.0</td>\n",
       "    </tr>\n",
       "    <tr>\n",
       "      <th>v</th>\n",
       "      <td>189508.0</td>\n",
       "    </tr>\n",
       "    <tr>\n",
       "      <th>z</th>\n",
       "      <td>170353.0</td>\n",
       "    </tr>\n",
       "  </tbody>\n",
       "</table>\n",
       "</div>"
      ],
      "text/plain": [
       "           0\n",
       "a  1124997.0\n",
       "b   194532.0\n",
       "c   482311.0\n",
       "d   236898.0\n",
       "e   995039.0\n",
       "f   134137.0\n",
       "g   246052.0\n",
       "h    89143.0\n",
       "i  1209959.0\n",
       "l   416661.0\n",
       "m   343493.0\n",
       "n   608259.0\n",
       "o   805063.0\n",
       "p   225272.0\n",
       "q    11929.0\n",
       "r   833290.0\n",
       "s   603764.0\n",
       "t   658065.0\n",
       "u   205151.0\n",
       "v   189508.0\n",
       "z   170353.0"
      ]
     },
     "execution_count": 41,
     "metadata": {},
     "output_type": "execute_result"
    }
   ],
   "source": [
    "#creating 2 empty lists for data frame creation\n",
    "letter_sum = []\n",
    "total_letter_sum = []\n",
    "\n",
    "#iterating the italian alphabet and appending each letter and its sum into the new lists\n",
    "for letter in italian_alphabet:\n",
    "    letter_sum.append(letter)\n",
    "    total_letter_sum.append(data[letter].sum())\n",
    "\n",
    "#creating and renaming the dataframe\n",
    "df_sum_letters = pd.DataFrame(total_letter_sum, letter_sum)\n",
    "df_sum_letters.rename(columns={0:'Total'})\n",
    "df_sum_letters"
   ]
  },
  {
   "cell_type": "code",
   "execution_count": 46,
   "id": "8845491f-c1ec-44ff-8cab-d7cc1a4a1f2c",
   "metadata": {},
   "outputs": [
    {
     "data": {
      "text/plain": [
       "<AxesSubplot:>"
      ]
     },
     "execution_count": 46,
     "metadata": {},
     "output_type": "execute_result"
    },
    {
     "data": {
      "image/png": "[encoded data removed]",
      "text/plain": [
       "<Figure size 432x288 with 1 Axes>"
      ]
     },
     "metadata": {
      "needs_background": "light"
     },
     "output_type": "display_data"
    }
   ],
   "source": [
    "df_sum_letters.plot(kind='bar')"
   ]
  },
  {
   "cell_type": "code",
   "execution_count": 23,
   "id": "dfd01177-0011-48f5-a396-f37c872edb40",
   "metadata": {},
   "outputs": [],
   "source": [
    "#contar o numero de letras nas palavras"
   ]
  },
  {
   "cell_type": "code",
   "execution_count": 24,
   "id": "693cec43-5ad6-4d04-a5d0-c4a407eb841f",
   "metadata": {},
   "outputs": [],
   "source": [
    "#contar vogais e consoantes"
   ]
  },
  {
   "cell_type": "code",
   "execution_count": null,
   "id": "4145400d-8675-48f6-9d27-7a3f019a673d",
   "metadata": {},
   "outputs": [],
   "source": []
  },
  {
   "cell_type": "code",
   "execution_count": null,
   "id": "ac3ade62-7058-44c4-b75d-50bff68a4369",
   "metadata": {},
   "outputs": [],
   "source": []
  }
 ],
 "metadata": {
  "kernelspec": {
   "display_name": "Python 3",
   "language": "python",
   "name": "python3"
  },
  "language_info": {
   "codemirror_mode": {
    "name": "ipython",
    "version": 3
   },
   "file_extension": ".py",
   "mimetype": "text/x-python",
   "name": "python",
   "nbconvert_exporter": "python",
   "pygments_lexer": "ipython3",
   "version": "3.8.8"
  }
 },
 "nbformat": 4,
 "nbformat_minor": 5
}
